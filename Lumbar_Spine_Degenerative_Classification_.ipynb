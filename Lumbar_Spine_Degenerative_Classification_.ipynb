{
  "nbformat": 4,
  "nbformat_minor": 0,
  "metadata": {
    "colab": {
      "provenance": [],
      "gpuType": "T4",
      "authorship_tag": "ABX9TyMuneraXOMo6v7hzMX2IhD6",
      "include_colab_link": true
    },
    "kernelspec": {
      "name": "python3",
      "display_name": "Python 3"
    },
    "language_info": {
      "name": "python"
    },
    "accelerator": "GPU"
  },
  "cells": [
    {
      "cell_type": "markdown",
      "metadata": {
        "id": "view-in-github",
        "colab_type": "text"
      },
      "source": [
        "<a href=\"https://colab.research.google.com/github/jigyasa-kapoor20/LumbarSpineDegenerativeClassification/blob/main/Lumbar_Spine_Degenerative_Classification_.ipynb\" target=\"_parent\"><img src=\"https://colab.research.google.com/assets/colab-badge.svg\" alt=\"Open In Colab\"/></a>"
      ]
    },
    {
      "cell_type": "code",
      "execution_count": null,
      "metadata": {
        "colab": {
          "base_uri": "https://localhost:8080/"
        },
        "id": "k4XcSvfR6uh2",
        "outputId": "93887fe6-b628-4da8-91b8-af9bf3350e5a"
      },
      "outputs": [
        {
          "output_type": "stream",
          "name": "stdout",
          "text": [
            "✅ Unzipped MRI_Data1\n"
          ]
        }
      ],
      "source": [
        "import zipfile\n",
        "import os\n",
        "\n",
        "zip_path = \"/content/MRI_Data1.zip\"\n",
        "extract_path = \"/content\"\n",
        "\n",
        "\n",
        "with zipfile.ZipFile(zip_path, 'r') as zip_ref:\n",
        "    zip_ref.extractall(extract_path)\n",
        "\n",
        "print(\"✅ Unzipped MRI_Data1\")\n"
      ]
    },
    {
      "cell_type": "code",
      "source": [
        "import os\n",
        "\n",
        "root_dir = \"/content/MRI_Data1\"\n",
        "print(sorted(os.listdir(root_dir))[:10])\n"
      ],
      "metadata": {
        "colab": {
          "base_uri": "https://localhost:8080/"
        },
        "id": "2c7y40iTI-IS",
        "outputId": "54ace9f2-34cb-4cb2-a812-980eb7df3271"
      },
      "execution_count": null,
      "outputs": [
        {
          "output_type": "stream",
          "name": "stdout",
          "text": [
            "['0001', '0002', '0003', '0004', '0005', '0007', '0009', '0010', '0011', '0012']\n"
          ]
        }
      ]
    },
    {
      "cell_type": "code",
      "source": [
        "!pip install pydicom"
      ],
      "metadata": {
        "colab": {
          "base_uri": "https://localhost:8080/"
        },
        "id": "_EFgYUdo-UNx",
        "outputId": "9a40259d-b31e-43eb-ca90-6457b75db3eb"
      },
      "execution_count": null,
      "outputs": [
        {
          "output_type": "stream",
          "name": "stdout",
          "text": [
            "Collecting pydicom\n",
            "  Downloading pydicom-3.0.1-py3-none-any.whl.metadata (9.4 kB)\n",
            "Downloading pydicom-3.0.1-py3-none-any.whl (2.4 MB)\n",
            "\u001b[?25l   \u001b[90m━━━━━━━━━━━━━━━━━━━━━━━━━━━━━━━━━━━━━━━━\u001b[0m \u001b[32m0.0/2.4 MB\u001b[0m \u001b[31m?\u001b[0m eta \u001b[36m-:--:--\u001b[0m\r\u001b[2K   \u001b[91m━━━━━━\u001b[0m\u001b[91m╸\u001b[0m\u001b[90m━━━━━━━━━━━━━━━━━━━━━━━━━━━━━━━━━\u001b[0m \u001b[32m0.4/2.4 MB\u001b[0m \u001b[31m11.4 MB/s\u001b[0m eta \u001b[36m0:00:01\u001b[0m\r\u001b[2K   \u001b[91m━━━━━━━━━━━━━━━━━━━━━━━━━━━━━━━━━━━━━━━\u001b[0m\u001b[91m╸\u001b[0m \u001b[32m2.4/2.4 MB\u001b[0m \u001b[31m44.2 MB/s\u001b[0m eta \u001b[36m0:00:01\u001b[0m\r\u001b[2K   \u001b[90m━━━━━━━━━━━━━━━━━━━━━━━━━━━━━━━━━━━━━━━━\u001b[0m \u001b[32m2.4/2.4 MB\u001b[0m \u001b[31m34.3 MB/s\u001b[0m eta \u001b[36m0:00:00\u001b[0m\n",
            "\u001b[?25hInstalling collected packages: pydicom\n",
            "Successfully installed pydicom-3.0.1\n"
          ]
        }
      ]
    },
    {
      "cell_type": "code",
      "source": [
        "import numpy as np\n",
        "import pandas as pd\n",
        "import pydicom\n",
        "from PIL import Image\n",
        "from tqdm import tqdm\n",
        "from torchvision import models, transforms\n",
        "import torch\n",
        "from sklearn.cluster import KMeans\n",
        "\n",
        "root_dir = \"/content/MRI_Data1\"\n",
        "slice_folder_name = \"T2_TSE_SAG_384_0002\"\n",
        "device = torch.device(\"cuda\" if torch.cuda.is_available() else \"cpu\")\n",
        "\n",
        "transform = transforms.Compose([\n",
        "    transforms.Resize((224, 224)),\n",
        "    transforms.ToTensor(),\n",
        "    transforms.Normalize([0.5], [0.5])\n",
        "])\n",
        "\n",
        "resnet = models.resnet18(pretrained=True)\n",
        "resnet.conv1 = torch.nn.Conv2d(1, 64, kernel_size=7, stride=2, padding=3, bias=False)\n",
        "resnet.fc = torch.nn.Identity()\n",
        "resnet = resnet.to(device)\n",
        "resnet.eval()\n",
        "\n",
        "features = []\n",
        "patient_ids = []\n",
        "\n",
        "for folder in tqdm(sorted(os.listdir(root_dir))):\n",
        "    path = os.path.join(root_dir, folder, slice_folder_name)\n",
        "    if not os.path.exists(path): continue\n",
        "    files = sorted(os.listdir(path))\n",
        "    if not files: continue\n",
        "\n",
        "    mid = len(files) // 2\n",
        "    try:\n",
        "        dcm = pydicom.dcmread(os.path.join(path, files[mid]))\n",
        "        img = Image.fromarray(dcm.pixel_array).convert(\"L\")\n",
        "        img_tensor = transform(img).unsqueeze(0).to(device)\n",
        "\n",
        "        with torch.no_grad():\n",
        "            emb = resnet(img_tensor).cpu().numpy().flatten()\n",
        "\n",
        "        features.append(emb)\n",
        "        patient_ids.append(folder)\n",
        "    except Exception as e:\n",
        "        print(f\"Skipping {folder}: {e}\")\n",
        "\n",
        "kmeans = KMeans(n_clusters=5, random_state=42)\n",
        "labels = kmeans.fit_predict(np.array(features))\n",
        "pseudo_grades = labels + 1\n",
        "\n",
        "df = pd.DataFrame({\n",
        "    \"patient_id\": [str(pid).zfill(4) for pid in patient_ids],\n",
        "    \"pfirrmann_grade\": pseudo_grades\n",
        "})\n",
        "df.to_csv(\"labels.csv\", index=False)\n",
        "print(\"✅ Saved labels.csv\")\n"
      ],
      "metadata": {
        "colab": {
          "base_uri": "https://localhost:8080/"
        },
        "id": "BJIcmqPYA6Dy",
        "outputId": "325ce95f-c927-4db1-a2c8-75022225c4cf"
      },
      "execution_count": null,
      "outputs": [
        {
          "output_type": "stream",
          "name": "stderr",
          "text": [
            "100%|██████████| 456/456 [00:02<00:00, 170.96it/s]"
          ]
        },
        {
          "output_type": "stream",
          "name": "stdout",
          "text": [
            "✅ Saved labels.csv\n"
          ]
        },
        {
          "output_type": "stream",
          "name": "stderr",
          "text": [
            "\n"
          ]
        }
      ]
    },
    {
      "cell_type": "code",
      "source": [
        "import pandas as pd\n",
        "\n",
        "df = pd.read_csv(\"labels.csv\")\n",
        "print(df.head())\n",
        "print(df['patient_id'].dtype)\n"
      ],
      "metadata": {
        "colab": {
          "base_uri": "https://localhost:8080/"
        },
        "id": "ZlrBMECHJGPi",
        "outputId": "15ff6338-4308-4208-ecaa-95f72eb1df51"
      },
      "execution_count": null,
      "outputs": [
        {
          "output_type": "stream",
          "name": "stdout",
          "text": [
            "   patient_id  pfirrmann_grade\n",
            "0           1                2\n",
            "1           2                1\n",
            "2           3                1\n",
            "3           4                3\n",
            "4           5                3\n",
            "int64\n"
          ]
        }
      ]
    },
    {
      "cell_type": "code",
      "source": [
        "root_dir = \"/content/MRI_Data1\"\n"
      ],
      "metadata": {
        "id": "TganOmTbAsyZ"
      },
      "execution_count": null,
      "outputs": []
    },
    {
      "cell_type": "code",
      "source": [
        "import os\n",
        "print(os.listdir(\"/content/MRI_Data1\"))"
      ],
      "metadata": {
        "colab": {
          "base_uri": "https://localhost:8080/"
        },
        "id": "0aOCadd1A07X",
        "outputId": "afd04abc-64d2-41a2-f0ec-1f698482d967"
      },
      "execution_count": null,
      "outputs": [
        {
          "output_type": "stream",
          "name": "stdout",
          "text": [
            "['0177', '0464', '0061', '0299', '0123', '0294', '0093', '0236', '0365', '0026', '0570', '0467', '0005', '0505', '0084', '0098', '0502', '0428', '0159', '0564', '0162', '0529', '0280', '0245', '0106', '0088', '0203', '0254', '0546', '0575', '0137', '0167', '0016', '0213', '0305', '0212', '0221', '0288', '0356', '0040', '0274', '0078', '0287', '0542', '0303', '0306', '0506', '0250', '0344', '0298', '0364', '0424', '0266', '0087', '0186', '0218', '0164', '0319', '0293', '0036', '0543', '0151', '0555', '0073', '0120', '0156', '0470', '0336', '0351', '0030', '0408', '0085', '0232', '0378', '0211', '0449', '0320', '0114', '0124', '0402', '0406', '0263', '0017', '0119', '0436', '0300', '0099', '0090', '0437', '0354', '0517', '0260', '0307', '0528', '0150', '0521', '0334', '0175', '0552', '0004', '0126', '0165', '0326', '0031', '0453', '0341', '0407', '0198', '0207', '0043', '0297', '0547', '0450', '0435', '0001', '0181', '0252', '0377', '0264', '0127', '0174', '0492', '0416', '0410', '0393', '0201', '0228', '0038', '0112', '0558', '0458', '0471', '0118', '0188', '0400', '0019', '0193', '0399', '0534', '0083', '0032', '0426', '0538', '0091', '0168', '0494', '0007', '0379', '0133', '0033', '0223', '0337', '0209', '0216', '0309', '0333', '0161', '0456', '0568', '0572', '0132', '0024', '0097', '0011', '0068', '0311', '0255', '0526', '0363', '0451', '0248', '0130', '0242', '0390', '0291', '0048', '0332', '0308', '0100', '0473', '0329', '0057', '0089', '0515', '0042', '0316', '0322', '0067', '0230', '0003', '0117', '0122', '0427', '0396', '0518', '0086', '0140', '0173', '0113', '0476', '0271', '0353', '0383', '0052', '0210', '0205', '0053', '0272', '0423', '0532', '0136', '0096', '0051', '0285', '0560', '0071', '0419', '0286', '0109', '0072', '0500', '0527', '0013', '0477', '0417', '0224', '0247', '0343', '0493', '0191', '0217', '0522', '0265', '0563', '0350', '0514', '0197', '0380', '0482', '0116', '0034', '0317', '0509', '0387', '0269', '0495', '0204', '0382', '0183', '0415', '0171', '0313', '0200', '0411', '0143', '0479', '0551', '0366', '0037', '0246', '0021', '0466', '0508', '0145', '0422', '0257', '0431', '0429', '0169', '0199', '0421', '0178', '0452', '0304', '0239', '0070', '0074', '0131', '0474', '0342', '0339', '0443', '0525', '0314', '0472', '0121', '0107', '0064', '0401', '0325', '0035', '0125', '0375', '0277', '0432', '0163', '0243', '0355', '0009', '0234', '0219', '0170', '0060', '0462', '0389', '0155', '0195', '0103', '0323', '0010', '0267', '0185', '0240', '0469', '0153', '0439', '0486', '0556', '0454', '0335', '0442', '0176', '0080', '0166', '0537', '0386', '0468', '0184', '0499', '0226', '0457', '0094', '0384', '0046', '0281', '0338', '0441', '0044', '0022', '0025', '0548', '0550', '0208', '0283', '0461', '0259', '0214', '0069', '0148', '0573', '0368', '0270', '0501', '0448', '0251', '0420', '0179', '0146', '0187', '0039', '0128', '0058', '0253', '0292', '0149', '0275', '0345', '0348', '0371', '0404', '0488', '0050', '0139', '0520', '0487', '0172', '0047', '0012', '0414', '0370', '0144', '0063', '0373', '0220', '0549', '0425', '0276', '0409', '0014', '0082', '0331', '0318', '0152', '0444', '0158', '0397', '0531', '0352', '0258', '0023', '0357', '0215', '0101', '0290', '0129', '0358', '0412', '0565', '0455', '0056', '0092', '0202', '0571', '0540', '0134', '0536', '0244', '0512', '0081', '0002', '0104', '0381', '0222', '0180', '0278', '0282', '0545', '0496', '0115', '0367', '0295', '0261', '0524', '0194', '0519', '0510', '0346', '0347', '0340', '0445', '0020', '0062', '0391', '0105', '0095', '0430', '0533', '0541', '0503', '0015', '0138', '0279', '0301', '0475', '0569', '0192']\n"
          ]
        }
      ]
    },
    {
      "cell_type": "code",
      "source": [
        "slice_folder_name = \"T2_TSE_SAG_384_0002\"\n",
        "\n",
        "for patient_id in ['0032', '0287', '0283']:\n",
        "    path = os.path.join(root_dir, patient_id, slice_folder_name)\n",
        "    if os.path.exists(path):\n",
        "        print(f\"Found {slice_folder_name} for patient {patient_id}\")\n",
        "    else:\n",
        "        print(f\"Directory {slice_folder_name} not found for patient {patient_id}\")\n"
      ],
      "metadata": {
        "colab": {
          "base_uri": "https://localhost:8080/"
        },
        "id": "Tz4s0vMWDcWp",
        "outputId": "dd091df3-4ae0-4b9b-bdee-1de20345fd6d"
      },
      "execution_count": null,
      "outputs": [
        {
          "output_type": "stream",
          "name": "stdout",
          "text": [
            "Found T2_TSE_SAG_384_0002 for patient 0032\n",
            "Found T2_TSE_SAG_384_0002 for patient 0287\n",
            "Found T2_TSE_SAG_384_0002 for patient 0283\n"
          ]
        }
      ]
    },
    {
      "cell_type": "code",
      "source": [
        "import os\n",
        "print(os.path.exists('/content/MRI_Data1/543/T2_TSE_SAG_384_0002'))  # Should print True if the path exists\n"
      ],
      "metadata": {
        "colab": {
          "base_uri": "https://localhost:8080/"
        },
        "id": "ZOOP6tD5AQn5",
        "outputId": "04b6fffb-fbee-4cca-eb71-fc2d4655ebbc"
      },
      "execution_count": null,
      "outputs": [
        {
          "output_type": "stream",
          "name": "stdout",
          "text": [
            "False\n"
          ]
        }
      ]
    },
    {
      "cell_type": "code",
      "source": [
        "\n",
        "df = pd.DataFrame({\n",
        "    \"patient_id\": [str(pid).zfill(4) for pid in patient_ids],\n",
        "    \"pfirrmann_grade\": pseudo_grades\n",
        "})\n",
        "df.to_csv(\"labels.csv\", index=False)\n",
        "print(\"✅ Saved labels.csv with padded patient IDs\")\n"
      ],
      "metadata": {
        "colab": {
          "base_uri": "https://localhost:8080/"
        },
        "id": "VF6UPLdhJevX",
        "outputId": "4d69ac2c-7c29-4bb5-fc4c-7f7a8ba35ae5"
      },
      "execution_count": null,
      "outputs": [
        {
          "output_type": "stream",
          "name": "stdout",
          "text": [
            "✅ Saved labels.csv with padded patient IDs\n"
          ]
        }
      ]
    },
    {
      "cell_type": "code",
      "source": [
        "from torch.utils.data import Dataset, DataLoader\n",
        "from torchvision import transforms\n",
        "import torch.nn as nn\n",
        "import torch.optim as optim\n",
        "\n",
        "class PfirrmannMRIDataset(Dataset):\n",
        "    def __init__(self, root_dir, label_file, transform=None, slices_per_patient=15):\n",
        "        self.root_dir = root_dir\n",
        "        self.labels_df = pd.read_csv(label_file, dtype={'patient_id': str})  # ✅ Ensure patient_id is string\n",
        "        self.transform = transform\n",
        "        self.slices = slices_per_patient\n",
        "\n",
        "    def __len__(self):\n",
        "        return len(self.labels_df)\n",
        "\n",
        "    def __getitem__(self, idx):\n",
        "        pid = str(self.labels_df.iloc[idx]['patient_id']).zfill(4)  # ✅ Zero pad to match folder names\n",
        "        label = int(self.labels_df.iloc[idx]['pfirrmann_grade']) - 1\n",
        "        path = os.path.join(self.root_dir, pid, slice_folder_name)\n",
        "        image_stack = []\n",
        "\n",
        "        try:\n",
        "            files = sorted(os.listdir(path))[:self.slices]\n",
        "        except FileNotFoundError:\n",
        "            raise RuntimeError(f\"❌ Folder not found: {path}\")\n",
        "\n",
        "        for f in files:\n",
        "            dcm = pydicom.dcmread(os.path.join(path, f))\n",
        "            img = Image.fromarray(dcm.pixel_array).convert(\"L\")\n",
        "            if self.transform:\n",
        "                img = self.transform(img)\n",
        "            image_stack.append(img)\n",
        "\n",
        "        stack_tensor = torch.stack(image_stack)  # Shape: [S, C, H, W]\n",
        "        return stack_tensor, label\n"
      ],
      "metadata": {
        "id": "B28sX_A5Bl1i"
      },
      "execution_count": null,
      "outputs": []
    },
    {
      "cell_type": "code",
      "source": [
        "transform = transforms.Compose([\n",
        "    transforms.Resize((224, 224)),\n",
        "    transforms.ToTensor(),\n",
        "    transforms.Normalize([0.5], [0.5])\n",
        "])\n",
        "\n",
        "dataset = PfirrmannMRIDataset(root_dir, \"labels.csv\", transform)\n",
        "train_loader = DataLoader(dataset, batch_size=4, shuffle=True)\n",
        "print(\"✅ Dataset and DataLoader ready\")\n"
      ],
      "metadata": {
        "colab": {
          "base_uri": "https://localhost:8080/"
        },
        "id": "QvLY7uE9Jp1f",
        "outputId": "0f174084-bc22-4bef-da33-c98f342d1e68"
      },
      "execution_count": null,
      "outputs": [
        {
          "output_type": "stream",
          "name": "stdout",
          "text": [
            "✅ Dataset and DataLoader ready\n"
          ]
        }
      ]
    },
    {
      "cell_type": "code",
      "source": [
        "class SliceWiseCNN(nn.Module):\n",
        "    def __init__(self):\n",
        "        super().__init__()\n",
        "        base = models.resnet18(pretrained=True)\n",
        "        base.conv1 = nn.Conv2d(1, 64, kernel_size=7, stride=2, padding=3, bias=False)\n",
        "        base.fc = nn.Linear(base.fc.in_features, 5)\n",
        "        self.base = base\n",
        "\n",
        "    def forward(self, x):\n",
        "        B, S, C, H, W = x.shape\n",
        "        x = x.view(B * S, C, H, W)\n",
        "        x = self.base(x)\n",
        "        x = x.view(B, S, -1).mean(dim=1)\n",
        "        return x\n"
      ],
      "metadata": {
        "id": "edCwDNVEBqqW"
      },
      "execution_count": null,
      "outputs": []
    },
    {
      "cell_type": "code",
      "source": [
        "def collate_fn(batch):\n",
        "    max_slices = max([x[0].shape[0] for x in batch])\n",
        "    padded_batch = []\n",
        "    labels = []\n",
        "\n",
        "    for img_tensor, label in batch:\n",
        "        num_slices = img_tensor.shape[0]\n",
        "        if num_slices < max_slices:\n",
        "            padding = max_slices - num_slices\n",
        "            padded_img = torch.cat([img_tensor, torch.zeros(padding, *img_tensor.shape[1:])], dim=0)\n",
        "        else:\n",
        "            padded_img = img_tensor\n",
        "        padded_batch.append(padded_img)\n",
        "        labels.append(label)\n",
        "\n",
        "    imgs_tensor = torch.stack(padded_batch)\n",
        "    labels_tensor = torch.tensor(labels)\n",
        "\n",
        "    return imgs_tensor, labels_tensor\n"
      ],
      "metadata": {
        "id": "YoRgtX6sKtQ8"
      },
      "execution_count": null,
      "outputs": []
    },
    {
      "cell_type": "code",
      "source": [
        "train_loader = DataLoader(dataset, batch_size=4, shuffle=True, collate_fn=collate_fn)\n"
      ],
      "metadata": {
        "id": "rlsk988wKxX4"
      },
      "execution_count": null,
      "outputs": []
    },
    {
      "cell_type": "code",
      "source": [
        "model = SliceWiseCNN().to(device)\n",
        "criterion = nn.CrossEntropyLoss()\n",
        "optimizer = optim.Adam(model.parameters(), lr=1e-4)\n",
        "\n",
        "for epoch in range(10):\n",
        "    model.train()\n",
        "    total_loss = 0\n",
        "    for imgs, labels in train_loader:\n",
        "        imgs = imgs.to(device)  # [B, S, C, H, W]\n",
        "        labels = labels.to(device)\n",
        "\n",
        "        optimizer.zero_grad()\n",
        "        out = model(imgs)\n",
        "        loss = criterion(out, labels)\n",
        "        loss.backward()\n",
        "        optimizer.step()\n",
        "        total_loss += loss.item()\n",
        "\n",
        "    print(f\"Epoch {epoch+1} | Loss: {total_loss:.4f}\")\n"
      ],
      "metadata": {
        "colab": {
          "base_uri": "https://localhost:8080/"
        },
        "id": "x1ehp6ENKyfJ",
        "outputId": "b78923c5-755a-4598-96d5-8cafcaa51602"
      },
      "execution_count": null,
      "outputs": [
        {
          "output_type": "stream",
          "name": "stderr",
          "text": [
            "/usr/local/lib/python3.11/dist-packages/torchvision/models/_utils.py:208: UserWarning: The parameter 'pretrained' is deprecated since 0.13 and may be removed in the future, please use 'weights' instead.\n",
            "  warnings.warn(\n",
            "/usr/local/lib/python3.11/dist-packages/torchvision/models/_utils.py:223: UserWarning: Arguments other than a weight enum or `None` for 'weights' are deprecated since 0.13 and may be removed in the future. The current behavior is equivalent to passing `weights=ResNet18_Weights.IMAGENET1K_V1`. You can also use `weights=ResNet18_Weights.DEFAULT` to get the most up-to-date weights.\n",
            "  warnings.warn(msg)\n"
          ]
        },
        {
          "output_type": "stream",
          "name": "stdout",
          "text": [
            "Epoch 1 | Loss: 129.9381\n",
            "Epoch 2 | Loss: 94.3935\n",
            "Epoch 3 | Loss: 80.3675\n",
            "Epoch 4 | Loss: 62.0396\n",
            "Epoch 5 | Loss: 54.5997\n",
            "Epoch 6 | Loss: 41.0455\n",
            "Epoch 7 | Loss: 29.9062\n",
            "Epoch 8 | Loss: 34.7345\n",
            "Epoch 9 | Loss: 33.0227\n",
            "Epoch 10 | Loss: 17.9429\n"
          ]
        }
      ]
    },
    {
      "cell_type": "code",
      "source": [
        "from sklearn.metrics import classification_report, confusion_matrix\n",
        "import seaborn as sns\n",
        "import matplotlib.pyplot as plt\n",
        "\n",
        "model.eval()\n",
        "all_preds, all_targets = [], []\n",
        "\n",
        "for imgs, labels in train_loader:\n",
        "    imgs = imgs.to(device)\n",
        "    labels = labels.to(device)\n",
        "    with torch.no_grad():\n",
        "        outputs = model(imgs)\n",
        "        preds = torch.argmax(outputs, dim=1)\n",
        "    all_preds.extend(preds.cpu().numpy())\n",
        "    all_targets.extend(labels.cpu().numpy())\n",
        "\n",
        "print(\"\\nClassification Report:\\n\", classification_report(all_targets, all_preds, digits=3))\n",
        "\n",
        "cm = confusion_matrix(all_targets, all_preds)\n",
        "sns.heatmap(cm, annot=True, cmap='Blues', fmt='d',\n",
        "            xticklabels=[1, 2, 3, 4, 5], yticklabels=[1, 2, 3, 4, 5])\n",
        "plt.xlabel(\"Predicted Grade\")\n",
        "plt.ylabel(\"True Grade\")\n",
        "plt.title(\"Pfirrmann Grading - Confusion Matrix\")\n",
        "plt.show()\n"
      ],
      "metadata": {
        "colab": {
          "base_uri": "https://localhost:8080/",
          "height": 715
        },
        "id": "oxGZ9sTpMOc8",
        "outputId": "12b1b612-0817-4237-98c4-95c937c28a93"
      },
      "execution_count": null,
      "outputs": [
        {
          "output_type": "stream",
          "name": "stdout",
          "text": [
            "\n",
            "Classification Report:\n",
            "               precision    recall  f1-score   support\n",
            "\n",
            "           0      1.000     0.987     0.993        76\n",
            "           1      1.000     1.000     1.000       140\n",
            "           2      0.994     1.000     0.997       157\n",
            "           3      1.000     1.000     1.000        63\n",
            "           4      1.000     1.000     1.000        20\n",
            "\n",
            "    accuracy                          0.998       456\n",
            "   macro avg      0.999     0.997     0.998       456\n",
            "weighted avg      0.998     0.998     0.998       456\n",
            "\n"
          ]
        },
        {
          "output_type": "display_data",
          "data": {
            "text/plain": [
              "<Figure size 640x480 with 2 Axes>"
            ],
            "image/png": "[encoded data removed]"
          },
          "metadata": {}
        }
      ]
    }
  ]
}